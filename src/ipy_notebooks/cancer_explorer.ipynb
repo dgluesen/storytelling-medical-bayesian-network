{
 "nbformat": 4,
 "nbformat_minor": 2,
 "metadata": {
  "language_info": {
   "name": "python",
   "codemirror_mode": {
    "name": "ipython",
    "version": 3
   },
   "version": "3.8.1-final"
  },
  "orig_nbformat": 2,
  "file_extension": ".py",
  "mimetype": "text/x-python",
  "name": "python",
  "npconvert_exporter": "python",
  "pygments_lexer": "ipython3",
  "version": 3,
  "kernelspec": {
   "name": "python38164bitmedstoryconda85f974f98d58443ab7c3289a26b433e1",
   "display_name": "Python 3.8.1 64-bit ('med_story': conda)"
  }
 },
 "cells": [
  {
   "cell_type": "code",
   "execution_count": 1,
   "metadata": {},
   "outputs": [],
   "source": [
    "import numpy as np\n",
    "import pandas as pd\n",
    "import matplotlib.pyplot as plt\n",
    "from medical_storytelling.datasets import Cancer"
   ]
  },
  {
   "cell_type": "markdown",
   "metadata": {},
   "source": [
    "## Loading the Datasets"
   ]
  },
  {
   "cell_type": "markdown",
   "metadata": {},
   "source": [
    "### Description\n",
    "Features are computed from a digitized image of a fine needle aspirate (FNA) of a breast mass. They describe characteristics of the cell nuclei present in the image.\n",
    "n the 3-dimensional space is that described in: [K. P. Bennett and O. L. Mangasarian: \"Robust Linear Programming Discrimination of Two Linearly Inseparable Sets\", Optimization Methods and Software 1, 1992, 23-34].\n",
    "\n",
    "Attribute Information:\n",
    "\n",
    "1) ID number\n",
    "2) Diagnosis (M = malignant, B = benign)\n",
    "3-32)\n",
    "\n",
    "Ten real-valued features are computed for each cell nucleus:\n",
    "\n",
    "a) radius (mean of distances from center to points on the perimeter)\n",
    "b) texture (standard deviation of gray-scale values)\n",
    "c) perimeter\n",
    "d) area\n",
    "e) smoothness (local variation in radius lengths)\n",
    "f) compactness (perimeter^2 / area - 1.0)\n",
    "g) concavity (severity of concave portions of the contour)\n",
    "h) concave points (number of concave portions of the contour)\n",
    "i) symmetry\n",
    "j) fractal dimension (\"coastline approximation\" - 1)\n",
    "\n",
    "The mean, standard error and \"worst\" or largest (mean of the three\n",
    "largest values) of these features were computed for each image,\n",
    "resulting in 30 features. For instance, field 3 is Mean Radius, field\n",
    "13 is Radius SE, field 23 is Worst Radius.\n",
    "\n",
    "All feature values are recoded with four significant digits.\n",
    "\n",
    "Missing attribute values: none\n",
    "\n",
    "Class distribution: 357 benign, 212 malignant"
   ]
  },
  {
   "cell_type": "code",
   "execution_count": 2,
   "metadata": {},
   "outputs": [
    {
     "data": {
      "text/html": "<div>\n<style scoped>\n    .dataframe tbody tr th:only-of-type {\n        vertical-align: middle;\n    }\n\n    .dataframe tbody tr th {\n        vertical-align: top;\n    }\n\n    .dataframe thead th {\n        text-align: right;\n    }\n</style>\n<table border=\"1\" class=\"dataframe\">\n  <thead>\n    <tr style=\"text-align: right;\">\n      <th></th>\n      <th>id</th>\n      <th>diagnosis</th>\n      <th>radius_mean</th>\n      <th>texture_mean</th>\n      <th>perimeter_mean</th>\n      <th>area_mean</th>\n      <th>smoothness_mean</th>\n      <th>compactness_mean</th>\n      <th>concavity_mean</th>\n      <th>concave points_mean</th>\n      <th>...</th>\n      <th>texture_worst</th>\n      <th>perimeter_worst</th>\n      <th>area_worst</th>\n      <th>smoothness_worst</th>\n      <th>compactness_worst</th>\n      <th>concavity_worst</th>\n      <th>concave points_worst</th>\n      <th>symmetry_worst</th>\n      <th>fractal_dimension_worst</th>\n      <th>Unnamed: 32</th>\n    </tr>\n  </thead>\n  <tbody>\n    <tr>\n      <th>0</th>\n      <td>-0.236197</td>\n      <td>1.296535</td>\n      <td>1.096100</td>\n      <td>-2.071512</td>\n      <td>1.268817</td>\n      <td>0.983510</td>\n      <td>1.567087</td>\n      <td>3.280628</td>\n      <td>2.650542</td>\n      <td>2.530249</td>\n      <td>...</td>\n      <td>-1.358098</td>\n      <td>2.301575</td>\n      <td>1.999478</td>\n      <td>1.306537</td>\n      <td>2.614365</td>\n      <td>2.107672</td>\n      <td>2.294058</td>\n      <td>2.748204</td>\n      <td>1.935312</td>\n      <td>NaN</td>\n    </tr>\n    <tr>\n      <th>1</th>\n      <td>-0.236196</td>\n      <td>1.296535</td>\n      <td>1.828212</td>\n      <td>-0.353322</td>\n      <td>1.684473</td>\n      <td>1.907030</td>\n      <td>-0.826235</td>\n      <td>-0.486643</td>\n      <td>-0.023825</td>\n      <td>0.547662</td>\n      <td>...</td>\n      <td>-0.368879</td>\n      <td>1.533776</td>\n      <td>1.888827</td>\n      <td>-0.375282</td>\n      <td>-0.430066</td>\n      <td>-0.146620</td>\n      <td>1.086129</td>\n      <td>-0.243675</td>\n      <td>0.280943</td>\n      <td>NaN</td>\n    </tr>\n    <tr>\n      <th>2</th>\n      <td>0.431362</td>\n      <td>1.296535</td>\n      <td>1.578499</td>\n      <td>0.455786</td>\n      <td>1.565126</td>\n      <td>1.557513</td>\n      <td>0.941382</td>\n      <td>1.052000</td>\n      <td>1.362280</td>\n      <td>2.035440</td>\n      <td>...</td>\n      <td>-0.023953</td>\n      <td>1.346291</td>\n      <td>1.455004</td>\n      <td>0.526944</td>\n      <td>1.081980</td>\n      <td>0.854222</td>\n      <td>1.953282</td>\n      <td>1.151242</td>\n      <td>0.201214</td>\n      <td>NaN</td>\n    </tr>\n    <tr>\n      <th>3</th>\n      <td>0.431741</td>\n      <td>1.296535</td>\n      <td>-0.768233</td>\n      <td>0.253509</td>\n      <td>-0.592166</td>\n      <td>-0.763792</td>\n      <td>3.280667</td>\n      <td>3.399917</td>\n      <td>1.914213</td>\n      <td>1.450431</td>\n      <td>...</td>\n      <td>0.133866</td>\n      <td>-0.249720</td>\n      <td>-0.549538</td>\n      <td>3.391291</td>\n      <td>3.889975</td>\n      <td>1.987839</td>\n      <td>2.173873</td>\n      <td>6.040726</td>\n      <td>4.930672</td>\n      <td>NaN</td>\n    </tr>\n    <tr>\n      <th>4</th>\n      <td>0.431821</td>\n      <td>1.296535</td>\n      <td>1.748758</td>\n      <td>-1.150804</td>\n      <td>1.775011</td>\n      <td>1.824624</td>\n      <td>0.280125</td>\n      <td>0.538866</td>\n      <td>1.369806</td>\n      <td>1.427237</td>\n      <td>...</td>\n      <td>-1.465481</td>\n      <td>1.337363</td>\n      <td>1.219651</td>\n      <td>0.220362</td>\n      <td>-0.313119</td>\n      <td>0.612640</td>\n      <td>0.728618</td>\n      <td>-0.867590</td>\n      <td>-0.396751</td>\n      <td>NaN</td>\n    </tr>\n  </tbody>\n</table>\n<p>5 rows × 33 columns</p>\n</div>",
      "text/plain": "         id  diagnosis  radius_mean  texture_mean  perimeter_mean  area_mean  \\\n0 -0.236197   1.296535     1.096100     -2.071512        1.268817   0.983510   \n1 -0.236196   1.296535     1.828212     -0.353322        1.684473   1.907030   \n2  0.431362   1.296535     1.578499      0.455786        1.565126   1.557513   \n3  0.431741   1.296535    -0.768233      0.253509       -0.592166  -0.763792   \n4  0.431821   1.296535     1.748758     -1.150804        1.775011   1.824624   \n\n   smoothness_mean  compactness_mean  concavity_mean  concave points_mean  \\\n0         1.567087          3.280628        2.650542             2.530249   \n1        -0.826235         -0.486643       -0.023825             0.547662   \n2         0.941382          1.052000        1.362280             2.035440   \n3         3.280667          3.399917        1.914213             1.450431   \n4         0.280125          0.538866        1.369806             1.427237   \n\n   ...  texture_worst  perimeter_worst  area_worst  smoothness_worst  \\\n0  ...      -1.358098         2.301575    1.999478          1.306537   \n1  ...      -0.368879         1.533776    1.888827         -0.375282   \n2  ...      -0.023953         1.346291    1.455004          0.526944   \n3  ...       0.133866        -0.249720   -0.549538          3.391291   \n4  ...      -1.465481         1.337363    1.219651          0.220362   \n\n   compactness_worst  concavity_worst  concave points_worst  symmetry_worst  \\\n0           2.614365         2.107672              2.294058        2.748204   \n1          -0.430066        -0.146620              1.086129       -0.243675   \n2           1.081980         0.854222              1.953282        1.151242   \n3           3.889975         1.987839              2.173873        6.040726   \n4          -0.313119         0.612640              0.728618       -0.867590   \n\n   fractal_dimension_worst  Unnamed: 32  \n0                 1.935312          NaN  \n1                 0.280943          NaN  \n2                 0.201214          NaN  \n3                 4.930672          NaN  \n4                -0.396751          NaN  \n\n[5 rows x 33 columns]"
     },
     "execution_count": 2,
     "metadata": {},
     "output_type": "execute_result"
    }
   ],
   "source": [
    "cancer_dataset = Cancer()\n",
    "cancer_dataset.head()"
   ]
  },
  {
   "cell_type": "code",
   "execution_count": 3,
   "metadata": {},
   "outputs": [
    {
     "name": "stdout",
     "output_type": "stream",
     "text": "<class 'pandas.core.frame.DataFrame'>\nRangeIndex: 569 entries, 0 to 568\nData columns (total 33 columns):\n #   Column                   Non-Null Count  Dtype  \n---  ------                   --------------  -----  \n 0   id                       569 non-null    float64\n 1   diagnosis                569 non-null    float64\n 2   radius_mean              569 non-null    float64\n 3   texture_mean             569 non-null    float64\n 4   perimeter_mean           569 non-null    float64\n 5   area_mean                569 non-null    float64\n 6   smoothness_mean          569 non-null    float64\n 7   compactness_mean         569 non-null    float64\n 8   concavity_mean           569 non-null    float64\n 9   concave points_mean      569 non-null    float64\n 10  symmetry_mean            569 non-null    float64\n 11  fractal_dimension_mean   569 non-null    float64\n 12  radius_se                569 non-null    float64\n 13  texture_se               569 non-null    float64\n 14  perimeter_se             569 non-null    float64\n 15  area_se                  569 non-null    float64\n 16  smoothness_se            569 non-null    float64\n 17  compactness_se           569 non-null    float64\n 18  concavity_se             569 non-null    float64\n 19  concave points_se        569 non-null    float64\n 20  symmetry_se              569 non-null    float64\n 21  fractal_dimension_se     569 non-null    float64\n 22  radius_worst             569 non-null    float64\n 23  texture_worst            569 non-null    float64\n 24  perimeter_worst          569 non-null    float64\n 25  area_worst               569 non-null    float64\n 26  smoothness_worst         569 non-null    float64\n 27  compactness_worst        569 non-null    float64\n 28  concavity_worst          569 non-null    float64\n 29  concave points_worst     569 non-null    float64\n 30  symmetry_worst           569 non-null    float64\n 31  fractal_dimension_worst  569 non-null    float64\n 32  Unnamed: 32              0 non-null      float64\ndtypes: float64(33)\nmemory usage: 146.8 KB\n"
    }
   ],
   "source": [
    "cancer_dataset.info()"
   ]
  },
  {
   "cell_type": "code",
   "execution_count": null,
   "metadata": {},
   "outputs": [],
   "source": []
  }
 ]
}