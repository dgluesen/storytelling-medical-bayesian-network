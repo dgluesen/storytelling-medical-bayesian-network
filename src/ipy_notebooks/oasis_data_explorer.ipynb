{
 "nbformat": 4,
 "nbformat_minor": 2,
 "metadata": {
  "language_info": {
   "name": "python",
   "codemirror_mode": {
    "name": "ipython",
    "version": 3
   },
   "version": "3.8.1-final"
  },
  "orig_nbformat": 2,
  "file_extension": ".py",
  "mimetype": "text/x-python",
  "name": "python",
  "npconvert_exporter": "python",
  "pygments_lexer": "ipython3",
  "version": 3,
  "kernelspec": {
   "name": "python38164bitmedstoryconda85f974f98d58443ab7c3289a26b433e1",
   "display_name": "Python 3.8.1 64-bit ('med_story': conda)"
  }
 },
 "cells": [
  {
   "cell_type": "code",
   "execution_count": 1,
   "metadata": {},
   "outputs": [],
   "source": [
    "import numpy as np\n",
    "import pandas as pd\n",
    "import matplotlib.pyplot as plt"
   ]
  },
  {
   "cell_type": "markdown",
   "metadata": {},
   "source": [
    "## Loading the Datasets"
   ]
  },
  {
   "cell_type": "markdown",
   "metadata": {},
   "source": [
    "### Columns Description\n",
    "| ID            | Identification                      |\n",
    "|---------------|-------------------------------------|\n",
    "| M/F           | Gender                              |\n",
    "| Dominant Hand | Hand                                |\n",
    "| Age           | Age                                 |\n",
    "| Edu           | Education Level                     |\n",
    "| SES           | Socioeconomic Status                |\n",
    "| MMSE          | Mini Mental State Examination       |\n",
    "| eTIV          | Estimated Total Intracranial Volume |\n",
    "| CDR           | Clinical Dementia Rating            |\n",
    "| nWBV          | Normalize Whole Brain Volume        |\n",
    "| ASF           | Atlas Scaling Factor                |\n",
    "| Delay         |                                     |"
   ]
  },
  {
   "cell_type": "code",
   "execution_count": 2,
   "metadata": {},
   "outputs": [],
   "source": [
    "path_to_oasis_cs = \"../../dat/alzheimer/oasis_cross-sectional.csv\"\n",
    "path_to_oasis_long = \"../../dat/alzheimer/oasis_longitudinal.csv\"\n",
    "oasis_cs_df = pd.read_csv(path_to_oasis_cs)\n",
    "oasis_long_df = pd.read_csv(path_to_oasis_long)"
   ]
  },
  {
   "cell_type": "code",
   "execution_count": 3,
   "metadata": {},
   "outputs": [
    {
     "data": {
      "text/html": "<div>\n<style scoped>\n    .dataframe tbody tr th:only-of-type {\n        vertical-align: middle;\n    }\n\n    .dataframe tbody tr th {\n        vertical-align: top;\n    }\n\n    .dataframe thead th {\n        text-align: right;\n    }\n</style>\n<table border=\"1\" class=\"dataframe\">\n  <thead>\n    <tr style=\"text-align: right;\">\n      <th></th>\n      <th>ID</th>\n      <th>M/F</th>\n      <th>Hand</th>\n      <th>Age</th>\n      <th>Educ</th>\n      <th>SES</th>\n      <th>MMSE</th>\n      <th>CDR</th>\n      <th>eTIV</th>\n      <th>nWBV</th>\n      <th>ASF</th>\n      <th>Delay</th>\n    </tr>\n  </thead>\n  <tbody>\n    <tr>\n      <th>0</th>\n      <td>OAS1_0001_MR1</td>\n      <td>F</td>\n      <td>R</td>\n      <td>74</td>\n      <td>2.0</td>\n      <td>3.0</td>\n      <td>29.0</td>\n      <td>0.0</td>\n      <td>1344</td>\n      <td>0.743</td>\n      <td>1.306</td>\n      <td>NaN</td>\n    </tr>\n    <tr>\n      <th>1</th>\n      <td>OAS1_0002_MR1</td>\n      <td>F</td>\n      <td>R</td>\n      <td>55</td>\n      <td>4.0</td>\n      <td>1.0</td>\n      <td>29.0</td>\n      <td>0.0</td>\n      <td>1147</td>\n      <td>0.810</td>\n      <td>1.531</td>\n      <td>NaN</td>\n    </tr>\n    <tr>\n      <th>2</th>\n      <td>OAS1_0003_MR1</td>\n      <td>F</td>\n      <td>R</td>\n      <td>73</td>\n      <td>4.0</td>\n      <td>3.0</td>\n      <td>27.0</td>\n      <td>0.5</td>\n      <td>1454</td>\n      <td>0.708</td>\n      <td>1.207</td>\n      <td>NaN</td>\n    </tr>\n    <tr>\n      <th>3</th>\n      <td>OAS1_0004_MR1</td>\n      <td>M</td>\n      <td>R</td>\n      <td>28</td>\n      <td>NaN</td>\n      <td>NaN</td>\n      <td>NaN</td>\n      <td>NaN</td>\n      <td>1588</td>\n      <td>0.803</td>\n      <td>1.105</td>\n      <td>NaN</td>\n    </tr>\n    <tr>\n      <th>4</th>\n      <td>OAS1_0005_MR1</td>\n      <td>M</td>\n      <td>R</td>\n      <td>18</td>\n      <td>NaN</td>\n      <td>NaN</td>\n      <td>NaN</td>\n      <td>NaN</td>\n      <td>1737</td>\n      <td>0.848</td>\n      <td>1.010</td>\n      <td>NaN</td>\n    </tr>\n  </tbody>\n</table>\n</div>",
      "text/plain": "              ID M/F Hand  Age  Educ  SES  MMSE  CDR  eTIV   nWBV    ASF  \\\n0  OAS1_0001_MR1   F    R   74   2.0  3.0  29.0  0.0  1344  0.743  1.306   \n1  OAS1_0002_MR1   F    R   55   4.0  1.0  29.0  0.0  1147  0.810  1.531   \n2  OAS1_0003_MR1   F    R   73   4.0  3.0  27.0  0.5  1454  0.708  1.207   \n3  OAS1_0004_MR1   M    R   28   NaN  NaN   NaN  NaN  1588  0.803  1.105   \n4  OAS1_0005_MR1   M    R   18   NaN  NaN   NaN  NaN  1737  0.848  1.010   \n\n   Delay  \n0    NaN  \n1    NaN  \n2    NaN  \n3    NaN  \n4    NaN  "
     },
     "execution_count": 3,
     "metadata": {},
     "output_type": "execute_result"
    }
   ],
   "source": [
    "oasis_cs_df.head()"
   ]
  },
  {
   "cell_type": "code",
   "execution_count": 4,
   "metadata": {},
   "outputs": [
    {
     "name": "stdout",
     "output_type": "stream",
     "text": "<class 'pandas.core.frame.DataFrame'>\nRangeIndex: 436 entries, 0 to 435\nData columns (total 12 columns):\n #   Column  Non-Null Count  Dtype  \n---  ------  --------------  -----  \n 0   ID      436 non-null    object \n 1   M/F     436 non-null    object \n 2   Hand    436 non-null    object \n 3   Age     436 non-null    int64  \n 4   Educ    235 non-null    float64\n 5   SES     216 non-null    float64\n 6   MMSE    235 non-null    float64\n 7   CDR     235 non-null    float64\n 8   eTIV    436 non-null    int64  \n 9   nWBV    436 non-null    float64\n 10  ASF     436 non-null    float64\n 11  Delay   20 non-null     float64\ndtypes: float64(7), int64(2), object(3)\nmemory usage: 41.0+ KB\n"
    }
   ],
   "source": [
    "oasis_cs_df.info()"
   ]
  },
  {
   "cell_type": "markdown",
   "metadata": {},
   "source": [
    "Column **Delay** has only 20 non-null values, so it might not be that useful here.\n",
    "\n",
    "Columns **Educ, SES (Socioeconomic Status), MMSE (Mini Mental State Examination), eTIV (Estimated Total Intracranial Volume)** are missing approximately half of their values. In general, we might look at these in more detail in connection to our target variable of interest **CDR** before figuring out how to handle this - however, **CDR** itself is missing half of its values. If the missing coincide, it might make sense to just look at the non-null part of the data."
   ]
  },
  {
   "cell_type": "code",
   "execution_count": 5,
   "metadata": {},
   "outputs": [
    {
     "data": {
      "text/html": "<div>\n<style scoped>\n    .dataframe tbody tr th:only-of-type {\n        vertical-align: middle;\n    }\n\n    .dataframe tbody tr th {\n        vertical-align: top;\n    }\n\n    .dataframe thead th {\n        text-align: right;\n    }\n</style>\n<table border=\"1\" class=\"dataframe\">\n  <thead>\n    <tr style=\"text-align: right;\">\n      <th></th>\n      <th>Subject ID</th>\n      <th>MRI ID</th>\n      <th>Group</th>\n      <th>Visit</th>\n      <th>MR Delay</th>\n      <th>M/F</th>\n      <th>Hand</th>\n      <th>Age</th>\n      <th>EDUC</th>\n      <th>SES</th>\n      <th>MMSE</th>\n      <th>CDR</th>\n      <th>eTIV</th>\n      <th>nWBV</th>\n      <th>ASF</th>\n    </tr>\n  </thead>\n  <tbody>\n    <tr>\n      <th>0</th>\n      <td>OAS2_0001</td>\n      <td>OAS2_0001_MR1</td>\n      <td>Nondemented</td>\n      <td>1</td>\n      <td>0</td>\n      <td>M</td>\n      <td>R</td>\n      <td>87</td>\n      <td>14</td>\n      <td>2.0</td>\n      <td>27.0</td>\n      <td>0.0</td>\n      <td>1987</td>\n      <td>0.696</td>\n      <td>0.883</td>\n    </tr>\n    <tr>\n      <th>1</th>\n      <td>OAS2_0001</td>\n      <td>OAS2_0001_MR2</td>\n      <td>Nondemented</td>\n      <td>2</td>\n      <td>457</td>\n      <td>M</td>\n      <td>R</td>\n      <td>88</td>\n      <td>14</td>\n      <td>2.0</td>\n      <td>30.0</td>\n      <td>0.0</td>\n      <td>2004</td>\n      <td>0.681</td>\n      <td>0.876</td>\n    </tr>\n    <tr>\n      <th>2</th>\n      <td>OAS2_0002</td>\n      <td>OAS2_0002_MR1</td>\n      <td>Demented</td>\n      <td>1</td>\n      <td>0</td>\n      <td>M</td>\n      <td>R</td>\n      <td>75</td>\n      <td>12</td>\n      <td>NaN</td>\n      <td>23.0</td>\n      <td>0.5</td>\n      <td>1678</td>\n      <td>0.736</td>\n      <td>1.046</td>\n    </tr>\n    <tr>\n      <th>3</th>\n      <td>OAS2_0002</td>\n      <td>OAS2_0002_MR2</td>\n      <td>Demented</td>\n      <td>2</td>\n      <td>560</td>\n      <td>M</td>\n      <td>R</td>\n      <td>76</td>\n      <td>12</td>\n      <td>NaN</td>\n      <td>28.0</td>\n      <td>0.5</td>\n      <td>1738</td>\n      <td>0.713</td>\n      <td>1.010</td>\n    </tr>\n    <tr>\n      <th>4</th>\n      <td>OAS2_0002</td>\n      <td>OAS2_0002_MR3</td>\n      <td>Demented</td>\n      <td>3</td>\n      <td>1895</td>\n      <td>M</td>\n      <td>R</td>\n      <td>80</td>\n      <td>12</td>\n      <td>NaN</td>\n      <td>22.0</td>\n      <td>0.5</td>\n      <td>1698</td>\n      <td>0.701</td>\n      <td>1.034</td>\n    </tr>\n  </tbody>\n</table>\n</div>",
      "text/plain": "  Subject ID         MRI ID        Group  Visit  MR Delay M/F Hand  Age  EDUC  \\\n0  OAS2_0001  OAS2_0001_MR1  Nondemented      1         0   M    R   87    14   \n1  OAS2_0001  OAS2_0001_MR2  Nondemented      2       457   M    R   88    14   \n2  OAS2_0002  OAS2_0002_MR1     Demented      1         0   M    R   75    12   \n3  OAS2_0002  OAS2_0002_MR2     Demented      2       560   M    R   76    12   \n4  OAS2_0002  OAS2_0002_MR3     Demented      3      1895   M    R   80    12   \n\n   SES  MMSE  CDR  eTIV   nWBV    ASF  \n0  2.0  27.0  0.0  1987  0.696  0.883  \n1  2.0  30.0  0.0  2004  0.681  0.876  \n2  NaN  23.0  0.5  1678  0.736  1.046  \n3  NaN  28.0  0.5  1738  0.713  1.010  \n4  NaN  22.0  0.5  1698  0.701  1.034  "
     },
     "execution_count": 5,
     "metadata": {},
     "output_type": "execute_result"
    }
   ],
   "source": [
    "oasis_long_df.head()"
   ]
  },
  {
   "cell_type": "code",
   "execution_count": 6,
   "metadata": {},
   "outputs": [
    {
     "name": "stdout",
     "output_type": "stream",
     "text": "<class 'pandas.core.frame.DataFrame'>\nRangeIndex: 373 entries, 0 to 372\nData columns (total 15 columns):\n #   Column      Non-Null Count  Dtype  \n---  ------      --------------  -----  \n 0   Subject ID  373 non-null    object \n 1   MRI ID      373 non-null    object \n 2   Group       373 non-null    object \n 3   Visit       373 non-null    int64  \n 4   MR Delay    373 non-null    int64  \n 5   M/F         373 non-null    object \n 6   Hand        373 non-null    object \n 7   Age         373 non-null    int64  \n 8   EDUC        373 non-null    int64  \n 9   SES         354 non-null    float64\n 10  MMSE        371 non-null    float64\n 11  CDR         373 non-null    float64\n 12  eTIV        373 non-null    int64  \n 13  nWBV        373 non-null    float64\n 14  ASF         373 non-null    float64\ndtypes: float64(5), int64(5), object(5)\nmemory usage: 43.8+ KB\n"
    }
   ],
   "source": [
    "oasis_long_df.info()"
   ]
  },
  {
   "cell_type": "markdown",
   "metadata": {},
   "source": [
    "The column **SES** is missing 19 of its values, **MMSE** two. We could fill these values just with the average, of even train a quick model in order to predict these (**without the target variable**)."
   ]
  },
  {
   "cell_type": "markdown",
   "metadata": {},
   "source": []
  }
 ]
}